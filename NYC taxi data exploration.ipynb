{
 "cells": [
  {
   "cell_type": "code",
   "execution_count": 2,
   "metadata": {},
   "outputs": [
    {
     "data": {
      "text/html": [
       "<div>\n",
       "<style scoped>\n",
       "    .dataframe tbody tr th:only-of-type {\n",
       "        vertical-align: middle;\n",
       "    }\n",
       "\n",
       "    .dataframe tbody tr th {\n",
       "        vertical-align: top;\n",
       "    }\n",
       "\n",
       "    .dataframe thead th {\n",
       "        text-align: right;\n",
       "    }\n",
       "</style>\n",
       "<table border=\"1\" class=\"dataframe\">\n",
       "  <thead>\n",
       "    <tr style=\"text-align: right;\">\n",
       "      <th></th>\n",
       "      <th>key</th>\n",
       "      <th>fare_amount</th>\n",
       "      <th>pickup_datetime</th>\n",
       "      <th>pickup_longitude</th>\n",
       "      <th>pickup_latitude</th>\n",
       "      <th>dropoff_longitude</th>\n",
       "      <th>dropoff_latitude</th>\n",
       "      <th>passenger_count</th>\n",
       "    </tr>\n",
       "  </thead>\n",
       "  <tbody>\n",
       "    <tr>\n",
       "      <th>0</th>\n",
       "      <td>2009-06-15 17:26:21.0000001</td>\n",
       "      <td>4.5</td>\n",
       "      <td>2009-06-15 17:26:21 UTC</td>\n",
       "      <td>-73.844311</td>\n",
       "      <td>40.721319</td>\n",
       "      <td>-73.841610</td>\n",
       "      <td>40.712278</td>\n",
       "      <td>1</td>\n",
       "    </tr>\n",
       "    <tr>\n",
       "      <th>1</th>\n",
       "      <td>2010-01-05 16:52:16.0000002</td>\n",
       "      <td>16.9</td>\n",
       "      <td>2010-01-05 16:52:16 UTC</td>\n",
       "      <td>-74.016048</td>\n",
       "      <td>40.711303</td>\n",
       "      <td>-73.979268</td>\n",
       "      <td>40.782004</td>\n",
       "      <td>1</td>\n",
       "    </tr>\n",
       "    <tr>\n",
       "      <th>2</th>\n",
       "      <td>2011-08-18 00:35:00.00000049</td>\n",
       "      <td>5.7</td>\n",
       "      <td>2011-08-18 00:35:00 UTC</td>\n",
       "      <td>-73.982738</td>\n",
       "      <td>40.761270</td>\n",
       "      <td>-73.991242</td>\n",
       "      <td>40.750562</td>\n",
       "      <td>2</td>\n",
       "    </tr>\n",
       "    <tr>\n",
       "      <th>3</th>\n",
       "      <td>2012-04-21 04:30:42.0000001</td>\n",
       "      <td>7.7</td>\n",
       "      <td>2012-04-21 04:30:42 UTC</td>\n",
       "      <td>-73.987130</td>\n",
       "      <td>40.733143</td>\n",
       "      <td>-73.991567</td>\n",
       "      <td>40.758092</td>\n",
       "      <td>1</td>\n",
       "    </tr>\n",
       "    <tr>\n",
       "      <th>4</th>\n",
       "      <td>2010-03-09 07:51:00.000000135</td>\n",
       "      <td>5.3</td>\n",
       "      <td>2010-03-09 07:51:00 UTC</td>\n",
       "      <td>-73.968095</td>\n",
       "      <td>40.768008</td>\n",
       "      <td>-73.956655</td>\n",
       "      <td>40.783762</td>\n",
       "      <td>1</td>\n",
       "    </tr>\n",
       "  </tbody>\n",
       "</table>\n",
       "</div>"
      ],
      "text/plain": [
       "                             key  fare_amount          pickup_datetime  \\\n",
       "0    2009-06-15 17:26:21.0000001          4.5  2009-06-15 17:26:21 UTC   \n",
       "1    2010-01-05 16:52:16.0000002         16.9  2010-01-05 16:52:16 UTC   \n",
       "2   2011-08-18 00:35:00.00000049          5.7  2011-08-18 00:35:00 UTC   \n",
       "3    2012-04-21 04:30:42.0000001          7.7  2012-04-21 04:30:42 UTC   \n",
       "4  2010-03-09 07:51:00.000000135          5.3  2010-03-09 07:51:00 UTC   \n",
       "\n",
       "   pickup_longitude  pickup_latitude  dropoff_longitude  dropoff_latitude  \\\n",
       "0        -73.844311        40.721319         -73.841610         40.712278   \n",
       "1        -74.016048        40.711303         -73.979268         40.782004   \n",
       "2        -73.982738        40.761270         -73.991242         40.750562   \n",
       "3        -73.987130        40.733143         -73.991567         40.758092   \n",
       "4        -73.968095        40.768008         -73.956655         40.783762   \n",
       "\n",
       "   passenger_count  \n",
       "0                1  \n",
       "1                1  \n",
       "2                2  \n",
       "3                1  \n",
       "4                1  "
      ]
     },
     "execution_count": 2,
     "metadata": {},
     "output_type": "execute_result"
    }
   ],
   "source": [
    "import pandas as pd\n",
    "import matplotlib as plt\n",
    "%matplotlib inline\n",
    "df = pd.read_csv('Desktop/new-york-city-taxi-fare-prediction/train.csv', nrows = 1_000_000)\n",
    "df.head()"
   ]
  },
  {
   "cell_type": "markdown",
   "metadata": {},
   "source": [
    "Let's check out what kind of data these are."
   ]
  },
  {
   "cell_type": "code",
   "execution_count": 3,
   "metadata": {},
   "outputs": [
    {
     "data": {
      "text/plain": [
       "key                   object\n",
       "fare_amount          float64\n",
       "pickup_datetime       object\n",
       "pickup_longitude     float64\n",
       "pickup_latitude      float64\n",
       "dropoff_longitude    float64\n",
       "dropoff_latitude     float64\n",
       "passenger_count        int64\n",
       "dtype: object"
      ]
     },
     "execution_count": 3,
     "metadata": {},
     "output_type": "execute_result"
    }
   ],
   "source": [
    "df.dtypes"
   ]
  },
  {
   "cell_type": "markdown",
   "metadata": {},
   "source": [
    "It looks like the key and pickup_datetime are the same so I will delete one "
   ]
  },
  {
   "cell_type": "code",
   "execution_count": 4,
   "metadata": {},
   "outputs": [
    {
     "data": {
      "text/html": [
       "<div>\n",
       "<style scoped>\n",
       "    .dataframe tbody tr th:only-of-type {\n",
       "        vertical-align: middle;\n",
       "    }\n",
       "\n",
       "    .dataframe tbody tr th {\n",
       "        vertical-align: top;\n",
       "    }\n",
       "\n",
       "    .dataframe thead th {\n",
       "        text-align: right;\n",
       "    }\n",
       "</style>\n",
       "<table border=\"1\" class=\"dataframe\">\n",
       "  <thead>\n",
       "    <tr style=\"text-align: right;\">\n",
       "      <th></th>\n",
       "      <th>key</th>\n",
       "      <th>fare_amount</th>\n",
       "      <th>pickup_longitude</th>\n",
       "      <th>pickup_latitude</th>\n",
       "      <th>dropoff_longitude</th>\n",
       "      <th>dropoff_latitude</th>\n",
       "      <th>passenger_count</th>\n",
       "    </tr>\n",
       "  </thead>\n",
       "  <tbody>\n",
       "    <tr>\n",
       "      <th>0</th>\n",
       "      <td>2009-06-15 17:26:21.0000001</td>\n",
       "      <td>4.5</td>\n",
       "      <td>-73.844311</td>\n",
       "      <td>40.721319</td>\n",
       "      <td>-73.841610</td>\n",
       "      <td>40.712278</td>\n",
       "      <td>1</td>\n",
       "    </tr>\n",
       "    <tr>\n",
       "      <th>1</th>\n",
       "      <td>2010-01-05 16:52:16.0000002</td>\n",
       "      <td>16.9</td>\n",
       "      <td>-74.016048</td>\n",
       "      <td>40.711303</td>\n",
       "      <td>-73.979268</td>\n",
       "      <td>40.782004</td>\n",
       "      <td>1</td>\n",
       "    </tr>\n",
       "    <tr>\n",
       "      <th>2</th>\n",
       "      <td>2011-08-18 00:35:00.00000049</td>\n",
       "      <td>5.7</td>\n",
       "      <td>-73.982738</td>\n",
       "      <td>40.761270</td>\n",
       "      <td>-73.991242</td>\n",
       "      <td>40.750562</td>\n",
       "      <td>2</td>\n",
       "    </tr>\n",
       "    <tr>\n",
       "      <th>3</th>\n",
       "      <td>2012-04-21 04:30:42.0000001</td>\n",
       "      <td>7.7</td>\n",
       "      <td>-73.987130</td>\n",
       "      <td>40.733143</td>\n",
       "      <td>-73.991567</td>\n",
       "      <td>40.758092</td>\n",
       "      <td>1</td>\n",
       "    </tr>\n",
       "    <tr>\n",
       "      <th>4</th>\n",
       "      <td>2010-03-09 07:51:00.000000135</td>\n",
       "      <td>5.3</td>\n",
       "      <td>-73.968095</td>\n",
       "      <td>40.768008</td>\n",
       "      <td>-73.956655</td>\n",
       "      <td>40.783762</td>\n",
       "      <td>1</td>\n",
       "    </tr>\n",
       "  </tbody>\n",
       "</table>\n",
       "</div>"
      ],
      "text/plain": [
       "                             key  fare_amount  pickup_longitude  \\\n",
       "0    2009-06-15 17:26:21.0000001          4.5        -73.844311   \n",
       "1    2010-01-05 16:52:16.0000002         16.9        -74.016048   \n",
       "2   2011-08-18 00:35:00.00000049          5.7        -73.982738   \n",
       "3    2012-04-21 04:30:42.0000001          7.7        -73.987130   \n",
       "4  2010-03-09 07:51:00.000000135          5.3        -73.968095   \n",
       "\n",
       "   pickup_latitude  dropoff_longitude  dropoff_latitude  passenger_count  \n",
       "0        40.721319         -73.841610         40.712278                1  \n",
       "1        40.711303         -73.979268         40.782004                1  \n",
       "2        40.761270         -73.991242         40.750562                2  \n",
       "3        40.733143         -73.991567         40.758092                1  \n",
       "4        40.768008         -73.956655         40.783762                1  "
      ]
     },
     "execution_count": 4,
     "metadata": {},
     "output_type": "execute_result"
    }
   ],
   "source": [
    "df = df.drop('pickup_datetime',axis=1)\n",
    "df.head()"
   ]
  },
  {
   "cell_type": "code",
   "execution_count": 5,
   "metadata": {},
   "outputs": [
    {
     "name": "stdout",
     "output_type": "stream",
     "text": [
      "(1000000, 7)\n"
     ]
    }
   ],
   "source": [
    "print(df.shape)"
   ]
  },
  {
   "cell_type": "markdown",
   "metadata": {},
   "source": [
    "I'll also print out some summary statistics"
   ]
  },
  {
   "cell_type": "code",
   "execution_count": 16,
   "metadata": {},
   "outputs": [
    {
     "data": {
      "text/html": [
       "<div>\n",
       "<style scoped>\n",
       "    .dataframe tbody tr th:only-of-type {\n",
       "        vertical-align: middle;\n",
       "    }\n",
       "\n",
       "    .dataframe tbody tr th {\n",
       "        vertical-align: top;\n",
       "    }\n",
       "\n",
       "    .dataframe thead th {\n",
       "        text-align: right;\n",
       "    }\n",
       "</style>\n",
       "<table border=\"1\" class=\"dataframe\">\n",
       "  <thead>\n",
       "    <tr style=\"text-align: right;\">\n",
       "      <th></th>\n",
       "      <th>fare_amount</th>\n",
       "      <th>pickup_longitude</th>\n",
       "      <th>pickup_latitude</th>\n",
       "      <th>dropoff_longitude</th>\n",
       "      <th>dropoff_latitude</th>\n",
       "      <th>passenger_count</th>\n",
       "      <th>abs_diff_longitude</th>\n",
       "      <th>abs_diff_latitude</th>\n",
       "      <th>total_distance</th>\n",
       "    </tr>\n",
       "  </thead>\n",
       "  <tbody>\n",
       "    <tr>\n",
       "      <th>count</th>\n",
       "      <td>994258.000000</td>\n",
       "      <td>994258.000000</td>\n",
       "      <td>994258.000000</td>\n",
       "      <td>994258.000000</td>\n",
       "      <td>994258.000000</td>\n",
       "      <td>994258.000000</td>\n",
       "      <td>994258.000000</td>\n",
       "      <td>994258.000000</td>\n",
       "      <td>994258.000000</td>\n",
       "    </tr>\n",
       "    <tr>\n",
       "      <th>mean</th>\n",
       "      <td>11.322223</td>\n",
       "      <td>-72.582792</td>\n",
       "      <td>39.958959</td>\n",
       "      <td>-72.581904</td>\n",
       "      <td>39.959282</td>\n",
       "      <td>1.690800</td>\n",
       "      <td>0.022498</td>\n",
       "      <td>0.021080</td>\n",
       "      <td>0.035388</td>\n",
       "    </tr>\n",
       "    <tr>\n",
       "      <th>std</th>\n",
       "      <td>9.514120</td>\n",
       "      <td>10.168132</td>\n",
       "      <td>5.986795</td>\n",
       "      <td>10.168015</td>\n",
       "      <td>5.986819</td>\n",
       "      <td>1.306155</td>\n",
       "      <td>0.038087</td>\n",
       "      <td>0.027638</td>\n",
       "      <td>0.045541</td>\n",
       "    </tr>\n",
       "    <tr>\n",
       "      <th>min</th>\n",
       "      <td>2.500000</td>\n",
       "      <td>-121.391210</td>\n",
       "      <td>-74.016587</td>\n",
       "      <td>-121.391248</td>\n",
       "      <td>-74.035197</td>\n",
       "      <td>1.000000</td>\n",
       "      <td>0.000000</td>\n",
       "      <td>0.000000</td>\n",
       "      <td>0.000000</td>\n",
       "    </tr>\n",
       "    <tr>\n",
       "      <th>25%</th>\n",
       "      <td>6.000000</td>\n",
       "      <td>-73.992071</td>\n",
       "      <td>40.735032</td>\n",
       "      <td>-73.991392</td>\n",
       "      <td>40.734104</td>\n",
       "      <td>1.000000</td>\n",
       "      <td>0.005793</td>\n",
       "      <td>0.006582</td>\n",
       "      <td>0.010734</td>\n",
       "    </tr>\n",
       "    <tr>\n",
       "      <th>50%</th>\n",
       "      <td>8.500000</td>\n",
       "      <td>-73.981811</td>\n",
       "      <td>40.752725</td>\n",
       "      <td>-73.980158</td>\n",
       "      <td>40.753192</td>\n",
       "      <td>1.000000</td>\n",
       "      <td>0.012423</td>\n",
       "      <td>0.013836</td>\n",
       "      <td>0.023186</td>\n",
       "    </tr>\n",
       "    <tr>\n",
       "      <th>75%</th>\n",
       "      <td>12.500000</td>\n",
       "      <td>-73.967160</td>\n",
       "      <td>40.767170</td>\n",
       "      <td>-73.963735</td>\n",
       "      <td>40.768140</td>\n",
       "      <td>2.000000</td>\n",
       "      <td>0.023611</td>\n",
       "      <td>0.026817</td>\n",
       "      <td>0.046089</td>\n",
       "    </tr>\n",
       "    <tr>\n",
       "      <th>max</th>\n",
       "      <td>130.000000</td>\n",
       "      <td>40.850357</td>\n",
       "      <td>51.084373</td>\n",
       "      <td>40.851027</td>\n",
       "      <td>51.346519</td>\n",
       "      <td>6.000000</td>\n",
       "      <td>4.923874</td>\n",
       "      <td>3.820613</td>\n",
       "      <td>5.941147</td>\n",
       "    </tr>\n",
       "  </tbody>\n",
       "</table>\n",
       "</div>"
      ],
      "text/plain": [
       "         fare_amount  pickup_longitude  pickup_latitude  dropoff_longitude  \\\n",
       "count  994258.000000     994258.000000    994258.000000      994258.000000   \n",
       "mean       11.322223        -72.582792        39.958959         -72.581904   \n",
       "std         9.514120         10.168132         5.986795          10.168015   \n",
       "min         2.500000       -121.391210       -74.016587        -121.391248   \n",
       "25%         6.000000        -73.992071        40.735032         -73.991392   \n",
       "50%         8.500000        -73.981811        40.752725         -73.980158   \n",
       "75%        12.500000        -73.967160        40.767170         -73.963735   \n",
       "max       130.000000         40.850357        51.084373          40.851027   \n",
       "\n",
       "       dropoff_latitude  passenger_count  abs_diff_longitude  \\\n",
       "count     994258.000000    994258.000000       994258.000000   \n",
       "mean          39.959282         1.690800            0.022498   \n",
       "std            5.986819         1.306155            0.038087   \n",
       "min          -74.035197         1.000000            0.000000   \n",
       "25%           40.734104         1.000000            0.005793   \n",
       "50%           40.753192         1.000000            0.012423   \n",
       "75%           40.768140         2.000000            0.023611   \n",
       "max           51.346519         6.000000            4.923874   \n",
       "\n",
       "       abs_diff_latitude  total_distance  \n",
       "count      994258.000000   994258.000000  \n",
       "mean            0.021080        0.035388  \n",
       "std             0.027638        0.045541  \n",
       "min             0.000000        0.000000  \n",
       "25%             0.006582        0.010734  \n",
       "50%             0.013836        0.023186  \n",
       "75%             0.026817        0.046089  \n",
       "max             3.820613        5.941147  "
      ]
     },
     "execution_count": 16,
     "metadata": {},
     "output_type": "execute_result"
    }
   ],
   "source": [
    "df.describe()"
   ]
  },
  {
   "cell_type": "markdown",
   "metadata": {},
   "source": [
    "# Cleaning up data\n",
    "I'd like to clean this data up in terms of Lat/Long, Fare price and passenger count"
   ]
  },
  {
   "cell_type": "code",
   "execution_count": 7,
   "metadata": {},
   "outputs": [
    {
     "data": {
      "text/plain": [
       "<matplotlib.axes._subplots.AxesSubplot at 0x11595d978>"
      ]
     },
     "execution_count": 7,
     "metadata": {},
     "output_type": "execute_result"
    },
    {
     "data": {
      "image/png": "[encoded data removed]",
      "text/plain": [
       "<Figure size 432x288 with 1 Axes>"
      ]
     },
     "metadata": {
      "needs_background": "light"
     },
     "output_type": "display_data"
    }
   ],
   "source": [
    "df.fare_amount.hist(bins=40)"
   ]
  },
  {
   "cell_type": "markdown",
   "metadata": {},
   "source": [
    "## Taxi Fare \n",
    "Real NYC taxi base fare is 2.5 so I will remove points below here as well as any high outliers above 130"
   ]
  },
  {
   "cell_type": "code",
   "execution_count": 8,
   "metadata": {},
   "outputs": [
    {
     "name": "stdout",
     "output_type": "stream",
     "text": [
      "Old: 1000000\n",
      "New: 996184\n"
     ]
    }
   ],
   "source": [
    "print(\"Old: %d\" % len(df))\n",
    "df = df[df['fare_amount'].between(left=2.5, right=130)]\n",
    "df = df[df['passenger_count'].between(left=1, right=6)]\n",
    "print(\"New: %d\" % len(df))"
   ]
  },
  {
   "cell_type": "markdown",
   "metadata": {},
   "source": [
    "## Passenger Count\n",
    "How is it distributed?\n",
    "Does it impact fare prices?"
   ]
  },
  {
   "cell_type": "code",
   "execution_count": 31,
   "metadata": {},
   "outputs": [
    {
     "ename": "AttributeError",
     "evalue": "'method' object has no attribute 'labelx'",
     "output_type": "error",
     "traceback": [
      "\u001b[0;31m---------------------------------------------------------------------------\u001b[0m",
      "\u001b[0;31mAttributeError\u001b[0m                            Traceback (most recent call last)",
      "\u001b[0;32m<ipython-input-31-a410f83b24a6>\u001b[0m in \u001b[0;36m<module>\u001b[0;34m\u001b[0m\n\u001b[1;32m      1\u001b[0m \u001b[0mfig1\u001b[0m \u001b[0;34m=\u001b[0m \u001b[0mdf\u001b[0m\u001b[0;34m.\u001b[0m\u001b[0mpassenger_count\u001b[0m\u001b[0;34m.\u001b[0m\u001b[0mplot\u001b[0m\u001b[0;34m.\u001b[0m\u001b[0mhist\u001b[0m\u001b[0;34m(\u001b[0m\u001b[0;34m)\u001b[0m\u001b[0;34m\u001b[0m\u001b[0;34m\u001b[0m\u001b[0m\n\u001b[0;32m----> 2\u001b[0;31m \u001b[0mfig1\u001b[0m\u001b[0;34m.\u001b[0m\u001b[0mplot\u001b[0m\u001b[0;34m.\u001b[0m\u001b[0mlabelx\u001b[0m \u001b[0;34m=\u001b[0m \u001b[0;34m\"Number of Passengers\"\u001b[0m\u001b[0;34m\u001b[0m\u001b[0;34m\u001b[0m\u001b[0m\n\u001b[0m",
      "\u001b[0;31mAttributeError\u001b[0m: 'method' object has no attribute 'labelx'"
     ]
    },
    {
     "data": {
      "image/png": "[encoded data removed]",
      "text/plain": [
       "<Figure size 432x288 with 1 Axes>"
      ]
     },
     "metadata": {
      "needs_background": "light"
     },
     "output_type": "display_data"
    }
   ],
   "source": [
    "fig1 = df.passenger_count.plot.hist()\n",
    "fig1.plot.labelx = \"Number of Passengers\""
   ]
  },
  {
   "cell_type": "markdown",
   "metadata": {},
   "source": [
    "## Distance\n",
    "Can we visualize the distance and fare price relationship? Is it correlated?"
   ]
  },
  {
   "cell_type": "code",
   "execution_count": 10,
   "metadata": {},
   "outputs": [],
   "source": [
    "df['abs_diff_longitude'] = (df.dropoff_longitude - df.pickup_longitude).abs()\n",
    "df['abs_diff_latitude'] = (df.dropoff_latitude - df.pickup_latitude).abs()\n",
    "df['total_distance'] = ((df.dropoff_longitude - df.pickup_longitude)+(df.dropoff_latitude - df.pickup_latitude)).abs()\n"
   ]
  },
  {
   "cell_type": "code",
   "execution_count": 11,
   "metadata": {},
   "outputs": [],
   "source": [
    "df = df[(df.abs_diff_longitude < 5.0) & (df.abs_diff_latitude < 5.0)]"
   ]
  },
  {
   "cell_type": "code",
   "execution_count": 30,
   "metadata": {},
   "outputs": [
    {
     "data": {
      "image/png": "[encoded data removed]",
      "text/plain": [
       "<Figure size 432x288 with 1 Axes>"
      ]
     },
     "metadata": {
      "needs_background": "light"
     },
     "output_type": "display_data"
    }
   ],
   "source": [
    "fig2 = df.plot.scatter(x='total_distance', y='fare_amount', s =0.001)"
   ]
  },
  {
   "cell_type": "markdown",
   "metadata": {},
   "source": [
    "There seems to be a correlation but it's quite hard to see here so I will find the correlation value"
   ]
  },
  {
   "cell_type": "code",
   "execution_count": 14,
   "metadata": {},
   "outputs": [
    {
     "data": {
      "text/html": [
       "<div>\n",
       "<style scoped>\n",
       "    .dataframe tbody tr th:only-of-type {\n",
       "        vertical-align: middle;\n",
       "    }\n",
       "\n",
       "    .dataframe tbody tr th {\n",
       "        vertical-align: top;\n",
       "    }\n",
       "\n",
       "    .dataframe thead th {\n",
       "        text-align: right;\n",
       "    }\n",
       "</style>\n",
       "<table border=\"1\" class=\"dataframe\">\n",
       "  <thead>\n",
       "    <tr style=\"text-align: right;\">\n",
       "      <th></th>\n",
       "      <th>fare_amount</th>\n",
       "      <th>pickup_longitude</th>\n",
       "      <th>pickup_latitude</th>\n",
       "      <th>dropoff_longitude</th>\n",
       "      <th>dropoff_latitude</th>\n",
       "      <th>passenger_count</th>\n",
       "      <th>abs_diff_longitude</th>\n",
       "      <th>abs_diff_latitude</th>\n",
       "      <th>total_distance</th>\n",
       "    </tr>\n",
       "  </thead>\n",
       "  <tbody>\n",
       "    <tr>\n",
       "      <th>fare_amount</th>\n",
       "      <td>1.000000</td>\n",
       "      <td>0.006443</td>\n",
       "      <td>-0.006223</td>\n",
       "      <td>0.006085</td>\n",
       "      <td>-0.006178</td>\n",
       "      <td>0.013290</td>\n",
       "      <td>0.710227</td>\n",
       "      <td>0.551151</td>\n",
       "      <td>0.567640</td>\n",
       "    </tr>\n",
       "    <tr>\n",
       "      <th>pickup_longitude</th>\n",
       "      <td>0.006443</td>\n",
       "      <td>1.000000</td>\n",
       "      <td>-0.982147</td>\n",
       "      <td>0.999991</td>\n",
       "      <td>-0.982146</td>\n",
       "      <td>-0.000784</td>\n",
       "      <td>-0.075514</td>\n",
       "      <td>-0.098202</td>\n",
       "      <td>-0.100500</td>\n",
       "    </tr>\n",
       "    <tr>\n",
       "      <th>pickup_latitude</th>\n",
       "      <td>-0.006223</td>\n",
       "      <td>-0.982147</td>\n",
       "      <td>1.000000</td>\n",
       "      <td>-0.982149</td>\n",
       "      <td>0.999983</td>\n",
       "      <td>-0.000434</td>\n",
       "      <td>0.071967</td>\n",
       "      <td>0.091385</td>\n",
       "      <td>0.095171</td>\n",
       "    </tr>\n",
       "    <tr>\n",
       "      <th>dropoff_longitude</th>\n",
       "      <td>0.006085</td>\n",
       "      <td>0.999991</td>\n",
       "      <td>-0.982149</td>\n",
       "      <td>1.000000</td>\n",
       "      <td>-0.982146</td>\n",
       "      <td>-0.000790</td>\n",
       "      <td>-0.075869</td>\n",
       "      <td>-0.098520</td>\n",
       "      <td>-0.100724</td>\n",
       "    </tr>\n",
       "    <tr>\n",
       "      <th>dropoff_latitude</th>\n",
       "      <td>-0.006178</td>\n",
       "      <td>-0.982146</td>\n",
       "      <td>0.999983</td>\n",
       "      <td>-0.982146</td>\n",
       "      <td>1.000000</td>\n",
       "      <td>-0.000422</td>\n",
       "      <td>0.072090</td>\n",
       "      <td>0.091541</td>\n",
       "      <td>0.095141</td>\n",
       "    </tr>\n",
       "    <tr>\n",
       "      <th>passenger_count</th>\n",
       "      <td>0.013290</td>\n",
       "      <td>-0.000784</td>\n",
       "      <td>-0.000434</td>\n",
       "      <td>-0.000790</td>\n",
       "      <td>-0.000422</td>\n",
       "      <td>1.000000</td>\n",
       "      <td>0.007191</td>\n",
       "      <td>0.006315</td>\n",
       "      <td>0.004183</td>\n",
       "    </tr>\n",
       "    <tr>\n",
       "      <th>abs_diff_longitude</th>\n",
       "      <td>0.710227</td>\n",
       "      <td>-0.075514</td>\n",
       "      <td>0.071967</td>\n",
       "      <td>-0.075869</td>\n",
       "      <td>0.072090</td>\n",
       "      <td>0.007191</td>\n",
       "      <td>1.000000</td>\n",
       "      <td>0.508976</td>\n",
       "      <td>0.748567</td>\n",
       "    </tr>\n",
       "    <tr>\n",
       "      <th>abs_diff_latitude</th>\n",
       "      <td>0.551151</td>\n",
       "      <td>-0.098202</td>\n",
       "      <td>0.091385</td>\n",
       "      <td>-0.098520</td>\n",
       "      <td>0.091541</td>\n",
       "      <td>0.006315</td>\n",
       "      <td>0.508976</td>\n",
       "      <td>1.000000</td>\n",
       "      <td>0.706971</td>\n",
       "    </tr>\n",
       "    <tr>\n",
       "      <th>total_distance</th>\n",
       "      <td>0.567640</td>\n",
       "      <td>-0.100500</td>\n",
       "      <td>0.095171</td>\n",
       "      <td>-0.100724</td>\n",
       "      <td>0.095141</td>\n",
       "      <td>0.004183</td>\n",
       "      <td>0.748567</td>\n",
       "      <td>0.706971</td>\n",
       "      <td>1.000000</td>\n",
       "    </tr>\n",
       "  </tbody>\n",
       "</table>\n",
       "</div>"
      ],
      "text/plain": [
       "                    fare_amount  pickup_longitude  pickup_latitude  \\\n",
       "fare_amount            1.000000          0.006443        -0.006223   \n",
       "pickup_longitude       0.006443          1.000000        -0.982147   \n",
       "pickup_latitude       -0.006223         -0.982147         1.000000   \n",
       "dropoff_longitude      0.006085          0.999991        -0.982149   \n",
       "dropoff_latitude      -0.006178         -0.982146         0.999983   \n",
       "passenger_count        0.013290         -0.000784        -0.000434   \n",
       "abs_diff_longitude     0.710227         -0.075514         0.071967   \n",
       "abs_diff_latitude      0.551151         -0.098202         0.091385   \n",
       "total_distance         0.567640         -0.100500         0.095171   \n",
       "\n",
       "                    dropoff_longitude  dropoff_latitude  passenger_count  \\\n",
       "fare_amount                  0.006085         -0.006178         0.013290   \n",
       "pickup_longitude             0.999991         -0.982146        -0.000784   \n",
       "pickup_latitude             -0.982149          0.999983        -0.000434   \n",
       "dropoff_longitude            1.000000         -0.982146        -0.000790   \n",
       "dropoff_latitude            -0.982146          1.000000        -0.000422   \n",
       "passenger_count             -0.000790         -0.000422         1.000000   \n",
       "abs_diff_longitude          -0.075869          0.072090         0.007191   \n",
       "abs_diff_latitude           -0.098520          0.091541         0.006315   \n",
       "total_distance              -0.100724          0.095141         0.004183   \n",
       "\n",
       "                    abs_diff_longitude  abs_diff_latitude  total_distance  \n",
       "fare_amount                   0.710227           0.551151        0.567640  \n",
       "pickup_longitude             -0.075514          -0.098202       -0.100500  \n",
       "pickup_latitude               0.071967           0.091385        0.095171  \n",
       "dropoff_longitude            -0.075869          -0.098520       -0.100724  \n",
       "dropoff_latitude              0.072090           0.091541        0.095141  \n",
       "passenger_count               0.007191           0.006315        0.004183  \n",
       "abs_diff_longitude            1.000000           0.508976        0.748567  \n",
       "abs_diff_latitude             0.508976           1.000000        0.706971  \n",
       "total_distance                0.748567           0.706971        1.000000  "
      ]
     },
     "execution_count": 14,
     "metadata": {},
     "output_type": "execute_result"
    }
   ],
   "source": [
    "df['fare_amount'].corr(df['total_distance'])\n",
    "df.corr() "
   ]
  },
  {
   "cell_type": "markdown",
   "metadata": {},
   "source": [
    "Looks like there is a pretty good correlation of .56 so this could be a good predictor of fare amount"
   ]
  },
  {
   "cell_type": "code",
   "execution_count": 22,
   "metadata": {},
   "outputs": [
    {
     "data": {
      "text/html": [
       "<div>\n",
       "<style scoped>\n",
       "    .dataframe tbody tr th:only-of-type {\n",
       "        vertical-align: middle;\n",
       "    }\n",
       "\n",
       "    .dataframe tbody tr th {\n",
       "        vertical-align: top;\n",
       "    }\n",
       "\n",
       "    .dataframe thead th {\n",
       "        text-align: right;\n",
       "    }\n",
       "</style>\n",
       "<table border=\"1\" class=\"dataframe\">\n",
       "  <thead>\n",
       "    <tr style=\"text-align: right;\">\n",
       "      <th></th>\n",
       "      <th>fare_amount</th>\n",
       "      <th>pickup_longitude</th>\n",
       "      <th>pickup_latitude</th>\n",
       "      <th>dropoff_longitude</th>\n",
       "      <th>dropoff_latitude</th>\n",
       "      <th>passenger_count</th>\n",
       "      <th>abs_diff_longitude</th>\n",
       "      <th>abs_diff_latitude</th>\n",
       "      <th>total_distance</th>\n",
       "    </tr>\n",
       "  </thead>\n",
       "  <tbody>\n",
       "    <tr>\n",
       "      <th>count</th>\n",
       "      <td>994258.000000</td>\n",
       "      <td>994258.000000</td>\n",
       "      <td>994258.000000</td>\n",
       "      <td>994258.000000</td>\n",
       "      <td>994258.000000</td>\n",
       "      <td>994258.000000</td>\n",
       "      <td>994258.000000</td>\n",
       "      <td>994258.000000</td>\n",
       "      <td>994258.000000</td>\n",
       "    </tr>\n",
       "    <tr>\n",
       "      <th>mean</th>\n",
       "      <td>11.322223</td>\n",
       "      <td>-72.582792</td>\n",
       "      <td>39.958959</td>\n",
       "      <td>-72.581904</td>\n",
       "      <td>39.959282</td>\n",
       "      <td>1.690800</td>\n",
       "      <td>0.022498</td>\n",
       "      <td>0.021080</td>\n",
       "      <td>0.035388</td>\n",
       "    </tr>\n",
       "    <tr>\n",
       "      <th>std</th>\n",
       "      <td>9.514120</td>\n",
       "      <td>10.168132</td>\n",
       "      <td>5.986795</td>\n",
       "      <td>10.168015</td>\n",
       "      <td>5.986819</td>\n",
       "      <td>1.306155</td>\n",
       "      <td>0.038087</td>\n",
       "      <td>0.027638</td>\n",
       "      <td>0.045541</td>\n",
       "    </tr>\n",
       "    <tr>\n",
       "      <th>min</th>\n",
       "      <td>2.500000</td>\n",
       "      <td>-121.391210</td>\n",
       "      <td>-74.016587</td>\n",
       "      <td>-121.391248</td>\n",
       "      <td>-74.035197</td>\n",
       "      <td>1.000000</td>\n",
       "      <td>0.000000</td>\n",
       "      <td>0.000000</td>\n",
       "      <td>0.000000</td>\n",
       "    </tr>\n",
       "    <tr>\n",
       "      <th>25%</th>\n",
       "      <td>6.000000</td>\n",
       "      <td>-73.992071</td>\n",
       "      <td>40.735032</td>\n",
       "      <td>-73.991392</td>\n",
       "      <td>40.734104</td>\n",
       "      <td>1.000000</td>\n",
       "      <td>0.005793</td>\n",
       "      <td>0.006582</td>\n",
       "      <td>0.010734</td>\n",
       "    </tr>\n",
       "    <tr>\n",
       "      <th>50%</th>\n",
       "      <td>8.500000</td>\n",
       "      <td>-73.981811</td>\n",
       "      <td>40.752725</td>\n",
       "      <td>-73.980158</td>\n",
       "      <td>40.753192</td>\n",
       "      <td>1.000000</td>\n",
       "      <td>0.012423</td>\n",
       "      <td>0.013836</td>\n",
       "      <td>0.023186</td>\n",
       "    </tr>\n",
       "    <tr>\n",
       "      <th>75%</th>\n",
       "      <td>12.500000</td>\n",
       "      <td>-73.967160</td>\n",
       "      <td>40.767170</td>\n",
       "      <td>-73.963735</td>\n",
       "      <td>40.768140</td>\n",
       "      <td>2.000000</td>\n",
       "      <td>0.023611</td>\n",
       "      <td>0.026817</td>\n",
       "      <td>0.046089</td>\n",
       "    </tr>\n",
       "    <tr>\n",
       "      <th>max</th>\n",
       "      <td>130.000000</td>\n",
       "      <td>40.850357</td>\n",
       "      <td>51.084373</td>\n",
       "      <td>40.851027</td>\n",
       "      <td>51.346519</td>\n",
       "      <td>6.000000</td>\n",
       "      <td>4.923874</td>\n",
       "      <td>3.820613</td>\n",
       "      <td>5.941147</td>\n",
       "    </tr>\n",
       "  </tbody>\n",
       "</table>\n",
       "</div>"
      ],
      "text/plain": [
       "         fare_amount  pickup_longitude  pickup_latitude  dropoff_longitude  \\\n",
       "count  994258.000000     994258.000000    994258.000000      994258.000000   \n",
       "mean       11.322223        -72.582792        39.958959         -72.581904   \n",
       "std         9.514120         10.168132         5.986795          10.168015   \n",
       "min         2.500000       -121.391210       -74.016587        -121.391248   \n",
       "25%         6.000000        -73.992071        40.735032         -73.991392   \n",
       "50%         8.500000        -73.981811        40.752725         -73.980158   \n",
       "75%        12.500000        -73.967160        40.767170         -73.963735   \n",
       "max       130.000000         40.850357        51.084373          40.851027   \n",
       "\n",
       "       dropoff_latitude  passenger_count  abs_diff_longitude  \\\n",
       "count     994258.000000    994258.000000       994258.000000   \n",
       "mean          39.959282         1.690800            0.022498   \n",
       "std            5.986819         1.306155            0.038087   \n",
       "min          -74.035197         1.000000            0.000000   \n",
       "25%           40.734104         1.000000            0.005793   \n",
       "50%           40.753192         1.000000            0.012423   \n",
       "75%           40.768140         2.000000            0.023611   \n",
       "max           51.346519         6.000000            4.923874   \n",
       "\n",
       "       abs_diff_latitude  total_distance  \n",
       "count      994258.000000   994258.000000  \n",
       "mean            0.021080        0.035388  \n",
       "std             0.027638        0.045541  \n",
       "min             0.000000        0.000000  \n",
       "25%             0.006582        0.010734  \n",
       "50%             0.013836        0.023186  \n",
       "75%             0.026817        0.046089  \n",
       "max             3.820613        5.941147  "
      ]
     },
     "execution_count": 22,
     "metadata": {},
     "output_type": "execute_result"
    }
   ],
   "source": [
    "df.describe()"
   ]
  },
  {
   "cell_type": "code",
   "execution_count": 26,
   "metadata": {},
   "outputs": [
    {
     "data": {
      "image/png": "[encoded data removed]",
      "text/plain": [
       "<Figure size 432x288 with 1 Axes>"
      ]
     },
     "metadata": {
      "needs_background": "light"
     },
     "output_type": "display_data"
    },
    {
     "data": {
      "image/png": "[encoded data removed]",
      "text/plain": [
       "<Figure size 432x288 with 1 Axes>"
      ]
     },
     "metadata": {
      "needs_background": "light"
     },
     "output_type": "display_data"
    }
   ],
   "source": [
    "import matplotlib.pyplot as plt\n",
    "lat_border = (40.5, 41.0) \n",
    "long_border = (-74.2, -73.7)\n",
    "df.plot(kind='scatter', x='dropoff_longitude', y='dropoff_latitude', color='red', s=.01)\n",
    "plt.title(\"Dropoff Locations\")\n",
    "plt.ylim(lat_border)\n",
    "plt.xlim(long_border)\n",
    "\n",
    "df.plot(kind='scatter', x='pickup_longitude', y='pickup_latitude', color='black', s=.01, alpha=.5)\n",
    "plt.title(\"Pickup Locations\")\n",
    "plt.ylim(lat_border)\n",
    "plt.xlim(long_border)\n",
    "plt.show()"
   ]
  },
  {
   "cell_type": "markdown",
   "metadata": {},
   "source": [
    "It looks like many of the pickups are more centralized while dropoffs converge less "
   ]
  }
 ],
 "metadata": {
  "kernelspec": {
   "display_name": "Python 3",
   "language": "python",
   "name": "python3"
  },
  "language_info": {
   "codemirror_mode": {
    "name": "ipython",
    "version": 3
   },
   "file_extension": ".py",
   "mimetype": "text/x-python",
   "name": "python",
   "nbconvert_exporter": "python",
   "pygments_lexer": "ipython3",
   "version": "3.7.3"
  }
 },
 "nbformat": 4,
 "nbformat_minor": 2
}
